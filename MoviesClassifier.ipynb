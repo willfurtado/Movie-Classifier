{
 "cells": [
  {
   "cell_type": "markdown",
   "metadata": {},
   "source": [
    "# Classifying Movie Genres"
   ]
  },
  {
   "cell_type": "markdown",
   "metadata": {},
   "source": [
    "**It IMDB like that sometimes...** This project will focus on determining what the **genre of a given movie** is based on the frequency that each word appears in the original screenplay. We will first use a *k*-Nearest Neighbors classifier.\n",
    "\n",
    "This project was inspired by UC Berkeley's **Foundations of Data Science Course** (*Data 8*) and an adaptation of the third and final project. All credit goes to the course staff and professors."
   ]
  },
  {
   "cell_type": "code",
   "execution_count": 1,
   "metadata": {},
   "outputs": [],
   "source": [
    "import pandas as pd \n",
    "import numpy as np\n",
    "import math\n",
    "\n",
    "# These lines set up the plotting functionality and formatting.\n",
    "import seaborn as sns\n",
    "import matplotlib\n",
    "matplotlib.use('Agg', warn=False)\n",
    "%matplotlib inline\n",
    "import matplotlib.pyplot as plt\n",
    "plt.style.use('ggplot')"
   ]
  },
  {
   "cell_type": "markdown",
   "metadata": {},
   "source": [
    "## Loading the Dataset: Movies"
   ]
  },
  {
   "cell_type": "markdown",
   "metadata": {},
   "source": [
    "This project will focus on determining what the **genre of a given movie** is based on the frequency that each word appears in the original screenplay"
   ]
  },
  {
   "cell_type": "code",
   "execution_count": 2,
   "metadata": {},
   "outputs": [
    {
     "data": {
      "text/html": [
       "<div>\n",
       "<style scoped>\n",
       "    .dataframe tbody tr th:only-of-type {\n",
       "        vertical-align: middle;\n",
       "    }\n",
       "\n",
       "    .dataframe tbody tr th {\n",
       "        vertical-align: top;\n",
       "    }\n",
       "\n",
       "    .dataframe thead th {\n",
       "        text-align: right;\n",
       "    }\n",
       "</style>\n",
       "<table border=\"1\" class=\"dataframe\">\n",
       "  <thead>\n",
       "    <tr style=\"text-align: right;\">\n",
       "      <th></th>\n",
       "      <th>Title</th>\n",
       "      <th>Genre</th>\n",
       "      <th>Year</th>\n",
       "      <th>Rating</th>\n",
       "      <th># Votes</th>\n",
       "      <th># Words</th>\n",
       "      <th>i</th>\n",
       "      <th>the</th>\n",
       "      <th>to</th>\n",
       "      <th>a</th>\n",
       "      <th>...</th>\n",
       "      <th>foster</th>\n",
       "      <th>pub</th>\n",
       "      <th>vegetarian</th>\n",
       "      <th>garrison</th>\n",
       "      <th>grammoo</th>\n",
       "      <th>chimney</th>\n",
       "      <th>bikini</th>\n",
       "      <th>richter</th>\n",
       "      <th>psychopath</th>\n",
       "      <th>fling</th>\n",
       "    </tr>\n",
       "  </thead>\n",
       "  <tbody>\n",
       "    <tr>\n",
       "      <td>0</td>\n",
       "      <td>the terminator</td>\n",
       "      <td>action</td>\n",
       "      <td>1984</td>\n",
       "      <td>8.1</td>\n",
       "      <td>183538</td>\n",
       "      <td>1849</td>\n",
       "      <td>0.040022</td>\n",
       "      <td>0.043807</td>\n",
       "      <td>0.025419</td>\n",
       "      <td>0.024878</td>\n",
       "      <td>...</td>\n",
       "      <td>0.0</td>\n",
       "      <td>0.0</td>\n",
       "      <td>0.0</td>\n",
       "      <td>0.0</td>\n",
       "      <td>0.0</td>\n",
       "      <td>0.0</td>\n",
       "      <td>0.0</td>\n",
       "      <td>0.0</td>\n",
       "      <td>0.000000</td>\n",
       "      <td>0.0</td>\n",
       "    </tr>\n",
       "    <tr>\n",
       "      <td>1</td>\n",
       "      <td>batman</td>\n",
       "      <td>action</td>\n",
       "      <td>1989</td>\n",
       "      <td>7.6</td>\n",
       "      <td>112731</td>\n",
       "      <td>2836</td>\n",
       "      <td>0.051481</td>\n",
       "      <td>0.033850</td>\n",
       "      <td>0.023977</td>\n",
       "      <td>0.028209</td>\n",
       "      <td>...</td>\n",
       "      <td>0.0</td>\n",
       "      <td>0.0</td>\n",
       "      <td>0.0</td>\n",
       "      <td>0.0</td>\n",
       "      <td>0.0</td>\n",
       "      <td>0.0</td>\n",
       "      <td>0.0</td>\n",
       "      <td>0.0</td>\n",
       "      <td>0.000000</td>\n",
       "      <td>0.0</td>\n",
       "    </tr>\n",
       "    <tr>\n",
       "      <td>2</td>\n",
       "      <td>tomorrow never dies</td>\n",
       "      <td>action</td>\n",
       "      <td>1997</td>\n",
       "      <td>6.4</td>\n",
       "      <td>47198</td>\n",
       "      <td>4215</td>\n",
       "      <td>0.028707</td>\n",
       "      <td>0.054330</td>\n",
       "      <td>0.030368</td>\n",
       "      <td>0.021827</td>\n",
       "      <td>...</td>\n",
       "      <td>0.0</td>\n",
       "      <td>0.0</td>\n",
       "      <td>0.0</td>\n",
       "      <td>0.0</td>\n",
       "      <td>0.0</td>\n",
       "      <td>0.0</td>\n",
       "      <td>0.0</td>\n",
       "      <td>0.0</td>\n",
       "      <td>0.000237</td>\n",
       "      <td>0.0</td>\n",
       "    </tr>\n",
       "  </tbody>\n",
       "</table>\n",
       "<p>3 rows × 5006 columns</p>\n",
       "</div>"
      ],
      "text/plain": [
       "                 Title   Genre  Year  Rating  # Votes  # Words         i  \\\n",
       "0       the terminator  action  1984     8.1   183538     1849  0.040022   \n",
       "1               batman  action  1989     7.6   112731     2836  0.051481   \n",
       "2  tomorrow never dies  action  1997     6.4    47198     4215  0.028707   \n",
       "\n",
       "        the        to         a  ...  foster  pub  vegetarian  garrison  \\\n",
       "0  0.043807  0.025419  0.024878  ...     0.0  0.0         0.0       0.0   \n",
       "1  0.033850  0.023977  0.028209  ...     0.0  0.0         0.0       0.0   \n",
       "2  0.054330  0.030368  0.021827  ...     0.0  0.0         0.0       0.0   \n",
       "\n",
       "   grammoo  chimney  bikini  richter  psychopath  fling  \n",
       "0      0.0      0.0     0.0      0.0    0.000000    0.0  \n",
       "1      0.0      0.0     0.0      0.0    0.000000    0.0  \n",
       "2      0.0      0.0     0.0      0.0    0.000237    0.0  \n",
       "\n",
       "[3 rows x 5006 columns]"
      ]
     },
     "execution_count": 2,
     "metadata": {},
     "output_type": "execute_result"
    }
   ],
   "source": [
    "movies = pd.read_csv('movies.csv')\n",
    "movies.head(3)"
   ]
  },
  {
   "cell_type": "code",
   "execution_count": 3,
   "metadata": {},
   "outputs": [
    {
     "name": "stdout",
     "output_type": "stream",
     "text": [
      "Movies in Dataset:  242\n",
      "Words in Dataset:  5000\n"
     ]
    }
   ],
   "source": [
    "print('Movies in Dataset: ', movies.shape[0])\n",
    "print('Words in Dataset: ', movies.shape[1]-6) #First 6 columns are not words, but rather movie descriptors"
   ]
  },
  {
   "cell_type": "markdown",
   "metadata": {},
   "source": [
    "## Implemented Functions"
   ]
  },
  {
   "cell_type": "markdown",
   "metadata": {},
   "source": [
    "Below I have defined several functions such as `index_by` and `get_movie` that will help me to more efficiently navigate the DataFrame. Additionally, I have set certain global values of `title_index`, which represents a dictionary of all the rows for the most efficient lookup, and `row_count` and `col_count`, which track the number of rows and columns for the original DataFrame."
   ]
  },
  {
   "cell_type": "code",
   "execution_count": 4,
   "metadata": {},
   "outputs": [],
   "source": [
    "def index_by(df,column):\n",
    "    \"\"\"Return a dict keyed by values in a column that contains series of rows corresponding to each value.\"\"\"\n",
    "    d, index = {}, 0\n",
    "\n",
    "    for title in df[column]:\n",
    "        if title not in d:\n",
    "            d[title] = df.iloc[index]\n",
    "        index += 1\n",
    "        \n",
    "    return d\n",
    "\n",
    "title_index = index_by(movies,'Title')\n",
    "\n",
    "def get_movie(title):\n",
    "    \"\"\"Return a PD series of the given movie using its title\"\"\"\n",
    "    return title_index.get(title)\n",
    "\n",
    "row_count, col_count = movies.shape"
   ]
  },
  {
   "cell_type": "markdown",
   "metadata": {},
   "source": [
    "## Splitting the Dataset: Training vs. Test Set"
   ]
  },
  {
   "cell_type": "markdown",
   "metadata": {},
   "source": [
    "In order for our classifier to be able to predict **unseen data**, we must separate our data into two main groups: the training set and the test set. In this investigation, we will use the training set as the basis of our classifier and we will then use the test set to measure how accurate our classifier is. It is imperative that we do not touch the test set before our final accuracy measurement."
   ]
  },
  {
   "cell_type": "code",
   "execution_count": 5,
   "metadata": {},
   "outputs": [],
   "source": [
    "# Number of movies that the training set and test set will have\n",
    "num_train = int((17/20) * row_count)\n",
    "num_test = row_count - num_train\n",
    "\n",
    "#Creating two new DataFrames for individual use with training, testing --> DO NOT TOUCH TEST SET\n",
    "train = movies[:num_train]\n",
    "test = movies[num_train:]"
   ]
  },
  {
   "cell_type": "markdown",
   "metadata": {},
   "source": [
    "## Classifier One: *k*-Nearest Neighbors Classifier"
   ]
  },
  {
   "cell_type": "markdown",
   "metadata": {},
   "source": [
    "K-Nearest Neighbors (k-NN) is a classification algorithm. Given some numerical attributes (also called features) of an unseen example, it decides whether that example belongs to one or the other of two categories based on its similarity to previously seen examples. Predicting the category of an example is called labeling, and the predicted category is also called a label.\n",
    "\n",
    "An attribute (feature) we have about each movie is the proportion of times a particular word appears in the movies, and the labels are two movie genres: romance and action. The algorithm requires many previously seen examples for which both the attributes and labels are known: that's the train_movies table."
   ]
  },
  {
   "cell_type": "code",
   "execution_count": 6,
   "metadata": {},
   "outputs": [],
   "source": [
    "def plot_with_two_features(test_movie,training_set,x_feature,y_feature):\n",
    "    \"\"\"Visualize a k-NN classifier using only two features\"\"\"\n",
    "    test_row = get_movie(test_movie)\n",
    "    data = {x_feature: [test_row[x_feature]],\n",
    "            y_feature: [test_row[y_feature]],\n",
    "            'Genre': ['unknown'],\n",
    "            'Title': test_movie,\n",
    "           }\n",
    "    distances = pd.DataFrame(data=data)\n",
    "    \n",
    "    for movie in training_set:\n",
    "        row = get_movie(movie)\n",
    "        cleaned_row = row[[x_feature, y_feature, 'Genre','Title']]\n",
    "        distances = distances.append(cleaned_row, ignore_index=True)\n",
    "        \n",
    "    #Plot the scatterplot with the associated features    \n",
    "    plt.axis([-0.001, 0.002, -0.001, 0.006]);\n",
    "    sns.scatterplot(x = x_feature, y = y_feature, data = distances, hue = 'Genre', s=75, alpha=0.75)"
   ]
  },
  {
   "cell_type": "code",
   "execution_count": 7,
   "metadata": {},
   "outputs": [
    {
     "data": {
      "image/png": "[encoded data removed]",
      "text/plain": [
       "<Figure size 432x288 with 1 Axes>"
      ]
     },
     "metadata": {
      "needs_background": "light"
     },
     "output_type": "display_data"
    }
   ],
   "source": [
    "#From this scatterplot, we can see the distances between all movies and 'Batman Returns'\n",
    "\n",
    "training = train['Title']\n",
    "plot_with_two_features('batman returns', training, 'money','feel')\n",
    "plt.title('Distance From \"Batman Returns\"');"
   ]
  },
  {
   "cell_type": "markdown",
   "metadata": {},
   "source": [
    "## Computing Distances"
   ]
  },
  {
   "cell_type": "markdown",
   "metadata": {},
   "source": [
    "*Euclidean distance in two dimensions can be computed using the L2 Norm; generalized from the [**Minkowski Distance**](https://stackoverflow.com/questions/1401712/how-can-the-euclidean-distance-be-calculated-with-numpy) where r = 2 as shown on the provided link. To do so, we can use NumPy's built-in Linear Algebra L2 Norm function to find the Euclidean distance between two points in two dimensions.*"
   ]
  },
  {
   "cell_type": "code",
   "execution_count": 8,
   "metadata": {},
   "outputs": [],
   "source": [
    "def distance_two_features(title0,title1,x_feature,y_feature):\n",
    "    \"\"\"Compute the distance between two movies with titles title0 and title1\n",
    "    \n",
    "    Only the features named x_feature and y_feature are used when computing the distance.\n",
    "    \"\"\"\n",
    "    row0, row1 = get_movie(title0), get_movie(title1)\n",
    "    movie0, movie1 = np.array(row0[[x_feature,y_feature]]), np.array(row1[[x_feature,y_feature]])\n",
    "    return np.linalg.norm(movie0-movie1)"
   ]
  },
  {
   "cell_type": "markdown",
   "metadata": {},
   "source": [
    "### Distance Examples: Batman Returns"
   ]
  },
  {
   "cell_type": "markdown",
   "metadata": {},
   "source": [
    "Below are ten movies and their respective differences from `Batman Returns` with regards to the columns `money` and `feel`."
   ]
  },
  {
   "cell_type": "code",
   "execution_count": 9,
   "metadata": {},
   "outputs": [
    {
     "name": "stdout",
     "output_type": "stream",
     "text": [
      "the terminator distance:\t 0.0018531387547749904\n",
      "batman distance:\t 0.0028947385758734765\n",
      "tomorrow never dies distance:\t 0.003067195390471237\n",
      "batman forever distance:\t 0.002373242062541873\n",
      "supergirl distance:\t 0.0016736368483252283\n",
      "the avengers distance:\t 0.0029437356216700243\n",
      "natural born killers distance:\t 0.002507080213654921\n",
      "airplane ii: the sequel distance:\t 0.003196621580968414\n",
      "willow distance:\t 0.004047317887707859\n",
      "fast times at ridgemont high distance:\t 0.0025515653909459193\n"
     ]
    }
   ],
   "source": [
    "for movie in train['Title'][:10]:\n",
    "    movie_distance = distance_two_features('batman returns', movie,'money','feel')\n",
    "    print(movie, 'distance:\\t', movie_distance)"
   ]
  },
  {
   "cell_type": "markdown",
   "metadata": {},
   "source": [
    "Now, lets iterate through all the movies in the `training set` in order to find the distance that each has from `Batman Returns`. From there, we can take perhaps the **seven closest movies** and look at each `genre` value. Whatever the majority value there is with the seven closest points, that is what our prediction will be for the movie `Batman Returns`."
   ]
  },
  {
   "cell_type": "code",
   "execution_count": 10,
   "metadata": {},
   "outputs": [],
   "source": [
    "batman_train = train[['Title','Genre','money','feel']]\n",
    "\n",
    "distances_from_batman = []\n",
    "\n",
    "for movie in batman_train['Title']:\n",
    "    movie_distance = distance_two_features('batman returns', movie,'money','feel')\n",
    "    distances_from_batman.append(movie_distance)\n",
    "    \n",
    "batman_train.insert(4,'Distance From Batman', distances_from_batman)"
   ]
  },
  {
   "cell_type": "code",
   "execution_count": 11,
   "metadata": {},
   "outputs": [
    {
     "data": {
      "text/html": [
       "<div>\n",
       "<style scoped>\n",
       "    .dataframe tbody tr th:only-of-type {\n",
       "        vertical-align: middle;\n",
       "    }\n",
       "\n",
       "    .dataframe tbody tr th {\n",
       "        vertical-align: top;\n",
       "    }\n",
       "\n",
       "    .dataframe thead th {\n",
       "        text-align: right;\n",
       "    }\n",
       "</style>\n",
       "<table border=\"1\" class=\"dataframe\">\n",
       "  <thead>\n",
       "    <tr style=\"text-align: right;\">\n",
       "      <th></th>\n",
       "      <th>Title</th>\n",
       "      <th>Genre</th>\n",
       "      <th>money</th>\n",
       "      <th>feel</th>\n",
       "      <th>Distance From Batman</th>\n",
       "    </tr>\n",
       "  </thead>\n",
       "  <tbody>\n",
       "    <tr>\n",
       "      <td>62</td>\n",
       "      <td>the bridges of madison county</td>\n",
       "      <td>romance</td>\n",
       "      <td>0.000565</td>\n",
       "      <td>0.004333</td>\n",
       "      <td>0.000323</td>\n",
       "    </tr>\n",
       "    <tr>\n",
       "      <td>204</td>\n",
       "      <td>the fisher king</td>\n",
       "      <td>romance</td>\n",
       "      <td>0.000618</td>\n",
       "      <td>0.003504</td>\n",
       "      <td>0.000525</td>\n",
       "    </tr>\n",
       "    <tr>\n",
       "      <td>82</td>\n",
       "      <td>broadcast news</td>\n",
       "      <td>romance</td>\n",
       "      <td>0.000137</td>\n",
       "      <td>0.003553</td>\n",
       "      <td>0.000590</td>\n",
       "    </tr>\n",
       "    <tr>\n",
       "      <td>25</td>\n",
       "      <td>hellboy</td>\n",
       "      <td>action</td>\n",
       "      <td>0.000000</td>\n",
       "      <td>0.003350</td>\n",
       "      <td>0.000834</td>\n",
       "    </tr>\n",
       "    <tr>\n",
       "      <td>122</td>\n",
       "      <td>as good as it gets</td>\n",
       "      <td>romance</td>\n",
       "      <td>0.000523</td>\n",
       "      <td>0.003139</td>\n",
       "      <td>0.000878</td>\n",
       "    </tr>\n",
       "    <tr>\n",
       "      <td>198</td>\n",
       "      <td>spider-man</td>\n",
       "      <td>action</td>\n",
       "      <td>0.000347</td>\n",
       "      <td>0.003126</td>\n",
       "      <td>0.000903</td>\n",
       "    </tr>\n",
       "    <tr>\n",
       "      <td>113</td>\n",
       "      <td>harold and maude</td>\n",
       "      <td>romance</td>\n",
       "      <td>0.000000</td>\n",
       "      <td>0.003023</td>\n",
       "      <td>0.001112</td>\n",
       "    </tr>\n",
       "  </tbody>\n",
       "</table>\n",
       "</div>"
      ],
      "text/plain": [
       "                             Title    Genre     money      feel  \\\n",
       "62   the bridges of madison county  romance  0.000565  0.004333   \n",
       "204                the fisher king  romance  0.000618  0.003504   \n",
       "82                  broadcast news  romance  0.000137  0.003553   \n",
       "25                         hellboy   action  0.000000  0.003350   \n",
       "122             as good as it gets  romance  0.000523  0.003139   \n",
       "198                     spider-man   action  0.000347  0.003126   \n",
       "113               harold and maude  romance  0.000000  0.003023   \n",
       "\n",
       "     Distance From Batman  \n",
       "62               0.000323  \n",
       "204              0.000525  \n",
       "82               0.000590  \n",
       "25               0.000834  \n",
       "122              0.000878  \n",
       "198              0.000903  \n",
       "113              0.001112  "
      ]
     },
     "execution_count": 11,
     "metadata": {},
     "output_type": "execute_result"
    }
   ],
   "source": [
    "# Sorted by 'Distance From Batman' in ascending order to find movies closest to Batman\n",
    "batman_train = batman_train.sort_values('Distance From Batman')[:7]\n",
    "batman_train"
   ]
  },
  {
   "cell_type": "code",
   "execution_count": 12,
   "metadata": {},
   "outputs": [],
   "source": [
    "def most_common(label,df):\n",
    "    \"\"\"Returns the most common element in each column of the DataFrame of the top k\"\"\"\n",
    "    return df.groupby(label).count().iloc[:,:1].sort_index(ascending=False).index[0]"
   ]
  },
  {
   "cell_type": "code",
   "execution_count": 13,
   "metadata": {},
   "outputs": [
    {
     "name": "stdout",
     "output_type": "stream",
     "text": [
      "Our Prediction for Batman's Genre: romance\n"
     ]
    }
   ],
   "source": [
    "batman_prediction = most_common('Genre',batman_train)\n",
    "print(\"Our Prediction for Batman's Genre: \" + batman_prediction)"
   ]
  },
  {
   "cell_type": "markdown",
   "metadata": {},
   "source": [
    "## Batman Returns is...  a Romance Movie?"
   ]
  },
  {
   "cell_type": "markdown",
   "metadata": {},
   "source": [
    "**Something isn't right**. Even though we used our *k*-Nearest Neighbors classifier on the training set, we were unsuccessful in accurately predicting the classification for a clearly action-packed `Batman Returns`. In order to improve our classifier, we can now look at not distances in two dimensions with respect to two attributes, but rather many dimensional spaces where each word attribute exists as one dimension. If we consider more than two features, we will get better results!"
   ]
  },
  {
   "cell_type": "code",
   "execution_count": 14,
   "metadata": {},
   "outputs": [],
   "source": [
    "# A list of twenty features that I will use as the basis for my Classifier\n",
    "\n",
    "features_list_20 = ['power','captain','more','world','run','marri','home',\n",
    "                    'happi','nice','play','hear','worri','idea','mom','care',\n",
    "                    'trust','doctor','head','walk','boy']"
   ]
  },
  {
   "cell_type": "code",
   "execution_count": 15,
   "metadata": {},
   "outputs": [],
   "source": [
    "#Reduced training and testing DataFrames that only include the frequency of each word in the features list\n",
    "#For each movie within both sets --> raw data\n",
    "\n",
    "train_20, test_20 = train[features_list_20], test[features_list_20]"
   ]
  },
  {
   "cell_type": "code",
   "execution_count": 16,
   "metadata": {},
   "outputs": [
    {
     "data": {
      "text/plain": [
       "211    0.000808\n",
       "Name: hear, dtype: float64"
      ]
     },
     "execution_count": 16,
     "metadata": {},
     "output_type": "execute_result"
    }
   ],
   "source": [
    "test[test['Title']=='king kong']['hear']"
   ]
  },
  {
   "cell_type": "code",
   "execution_count": 17,
   "metadata": {},
   "outputs": [
    {
     "name": "stdout",
     "output_type": "stream",
     "text": [
      "Movie: \n"
     ]
    },
    {
     "data": {
      "text/html": [
       "<div>\n",
       "<style scoped>\n",
       "    .dataframe tbody tr th:only-of-type {\n",
       "        vertical-align: middle;\n",
       "    }\n",
       "\n",
       "    .dataframe tbody tr th {\n",
       "        vertical-align: top;\n",
       "    }\n",
       "\n",
       "    .dataframe thead th {\n",
       "        text-align: right;\n",
       "    }\n",
       "</style>\n",
       "<table border=\"1\" class=\"dataframe\">\n",
       "  <thead>\n",
       "    <tr style=\"text-align: right;\">\n",
       "      <th></th>\n",
       "      <th>Title</th>\n",
       "      <th>Genre</th>\n",
       "    </tr>\n",
       "  </thead>\n",
       "  <tbody>\n",
       "    <tr>\n",
       "      <td>205</td>\n",
       "      <td>the mummy</td>\n",
       "      <td>action</td>\n",
       "    </tr>\n",
       "  </tbody>\n",
       "</table>\n",
       "</div>"
      ],
      "text/plain": [
       "         Title   Genre\n",
       "205  the mummy  action"
      ]
     },
     "execution_count": 17,
     "metadata": {},
     "output_type": "execute_result"
    }
   ],
   "source": [
    "print('Movie: ')\n",
    "test[:1][['Title','Genre']]"
   ]
  },
  {
   "cell_type": "code",
   "execution_count": 18,
   "metadata": {},
   "outputs": [
    {
     "name": "stdout",
     "output_type": "stream",
     "text": [
      "Features:\n"
     ]
    },
    {
     "data": {
      "text/html": [
       "<div>\n",
       "<style scoped>\n",
       "    .dataframe tbody tr th:only-of-type {\n",
       "        vertical-align: middle;\n",
       "    }\n",
       "\n",
       "    .dataframe tbody tr th {\n",
       "        vertical-align: top;\n",
       "    }\n",
       "\n",
       "    .dataframe thead th {\n",
       "        text-align: right;\n",
       "    }\n",
       "</style>\n",
       "<table border=\"1\" class=\"dataframe\">\n",
       "  <thead>\n",
       "    <tr style=\"text-align: right;\">\n",
       "      <th></th>\n",
       "      <th>power</th>\n",
       "      <th>captain</th>\n",
       "      <th>more</th>\n",
       "      <th>world</th>\n",
       "      <th>run</th>\n",
       "      <th>marri</th>\n",
       "      <th>home</th>\n",
       "      <th>happi</th>\n",
       "      <th>nice</th>\n",
       "      <th>play</th>\n",
       "      <th>hear</th>\n",
       "      <th>worri</th>\n",
       "      <th>idea</th>\n",
       "      <th>mom</th>\n",
       "      <th>care</th>\n",
       "      <th>trust</th>\n",
       "      <th>doctor</th>\n",
       "      <th>head</th>\n",
       "      <th>walk</th>\n",
       "      <th>boy</th>\n",
       "    </tr>\n",
       "  </thead>\n",
       "  <tbody>\n",
       "    <tr>\n",
       "      <td>205</td>\n",
       "      <td>0.0</td>\n",
       "      <td>0.0</td>\n",
       "      <td>0.001926</td>\n",
       "      <td>0.000321</td>\n",
       "      <td>0.0</td>\n",
       "      <td>0.000321</td>\n",
       "      <td>0.0</td>\n",
       "      <td>0.0</td>\n",
       "      <td>0.000321</td>\n",
       "      <td>0.000642</td>\n",
       "      <td>0.0</td>\n",
       "      <td>0.0</td>\n",
       "      <td>0.0</td>\n",
       "      <td>0.0</td>\n",
       "      <td>0.000321</td>\n",
       "      <td>0.000321</td>\n",
       "      <td>0.0</td>\n",
       "      <td>0.0</td>\n",
       "      <td>0.000642</td>\n",
       "      <td>0.000321</td>\n",
       "    </tr>\n",
       "  </tbody>\n",
       "</table>\n",
       "</div>"
      ],
      "text/plain": [
       "     power  captain      more     world  run     marri  home  happi      nice  \\\n",
       "205    0.0      0.0  0.001926  0.000321  0.0  0.000321   0.0    0.0  0.000321   \n",
       "\n",
       "         play  hear  worri  idea  mom      care     trust  doctor  head  \\\n",
       "205  0.000642   0.0    0.0   0.0  0.0  0.000321  0.000321     0.0   0.0   \n",
       "\n",
       "         walk       boy  \n",
       "205  0.000642  0.000321  "
      ]
     },
     "execution_count": 18,
     "metadata": {},
     "output_type": "execute_result"
    }
   ],
   "source": [
    "print('Features:')\n",
    "test_20[:1].head()"
   ]
  },
  {
   "cell_type": "code",
   "execution_count": 19,
   "metadata": {},
   "outputs": [
    {
     "data": {
      "text/html": [
       "<div>\n",
       "<style scoped>\n",
       "    .dataframe tbody tr th:only-of-type {\n",
       "        vertical-align: middle;\n",
       "    }\n",
       "\n",
       "    .dataframe tbody tr th {\n",
       "        vertical-align: top;\n",
       "    }\n",
       "\n",
       "    .dataframe thead th {\n",
       "        text-align: right;\n",
       "    }\n",
       "</style>\n",
       "<table border=\"1\" class=\"dataframe\">\n",
       "  <thead>\n",
       "    <tr style=\"text-align: right;\">\n",
       "      <th></th>\n",
       "      <th>power</th>\n",
       "      <th>captain</th>\n",
       "      <th>more</th>\n",
       "      <th>world</th>\n",
       "      <th>run</th>\n",
       "      <th>marri</th>\n",
       "      <th>home</th>\n",
       "      <th>happi</th>\n",
       "      <th>nice</th>\n",
       "      <th>play</th>\n",
       "      <th>hear</th>\n",
       "      <th>worri</th>\n",
       "      <th>idea</th>\n",
       "      <th>mom</th>\n",
       "      <th>care</th>\n",
       "      <th>trust</th>\n",
       "      <th>doctor</th>\n",
       "      <th>head</th>\n",
       "      <th>walk</th>\n",
       "      <th>boy</th>\n",
       "    </tr>\n",
       "  </thead>\n",
       "  <tbody>\n",
       "    <tr>\n",
       "      <td>0</td>\n",
       "      <td>0.000541</td>\n",
       "      <td>0.0</td>\n",
       "      <td>0.002163</td>\n",
       "      <td>0.000541</td>\n",
       "      <td>0.001082</td>\n",
       "      <td>0.0</td>\n",
       "      <td>0.001082</td>\n",
       "      <td>0.0</td>\n",
       "      <td>0.0</td>\n",
       "      <td>0.0</td>\n",
       "      <td>0.000541</td>\n",
       "      <td>0.0</td>\n",
       "      <td>0.0</td>\n",
       "      <td>0.000541</td>\n",
       "      <td>0.000541</td>\n",
       "      <td>0.001082</td>\n",
       "      <td>0.001082</td>\n",
       "      <td>0.0</td>\n",
       "      <td>0.000541</td>\n",
       "      <td>0.0</td>\n",
       "    </tr>\n",
       "  </tbody>\n",
       "</table>\n",
       "</div>"
      ],
      "text/plain": [
       "      power  captain      more     world       run  marri      home  happi  \\\n",
       "0  0.000541      0.0  0.002163  0.000541  0.001082    0.0  0.001082    0.0   \n",
       "\n",
       "   nice  play      hear  worri  idea       mom      care     trust    doctor  \\\n",
       "0   0.0   0.0  0.000541    0.0   0.0  0.000541  0.000541  0.001082  0.001082   \n",
       "\n",
       "   head      walk  boy  \n",
       "0   0.0  0.000541  0.0  "
      ]
     },
     "execution_count": 19,
     "metadata": {},
     "output_type": "execute_result"
    }
   ],
   "source": [
    "train_20.head(1)"
   ]
  },
  {
   "cell_type": "markdown",
   "metadata": {},
   "source": [
    "## Increasing Efficiency of Computing Distances"
   ]
  },
  {
   "cell_type": "markdown",
   "metadata": {},
   "source": [
    "If we are going to be working with large DataFrames, it would be very inefficient to compute the distance using the `Euclidean Distance Formula`. To solve this, I used matrix manipulations as well as `NumPy` functions scuh as `np.tile` and `np.squeeze` to compute distances quickly."
   ]
  },
  {
   "cell_type": "code",
   "execution_count": 20,
   "metadata": {},
   "outputs": [],
   "source": [
    "def fast_distances(test_row, train_df):\n",
    "    \"\"\"Return an array of the distances between test_row and each row in train_rows.\"\"\"\n",
    "\n",
    "    assert train_df.shape[1] <= 100, \"Make sure you're not using all the features of the movies table.\"\n",
    "    \n",
    "    counts_matrix = np.asmatrix(train_df)\n",
    "    diff = np.tile(np.array(test_row), [counts_matrix.shape[0], 1]) - counts_matrix\n",
    "    np.random.seed(0) # For tie breaking purposes\n",
    "    distances = np.squeeze(np.asarray(np.sqrt(np.square(diff).sum(1))))\n",
    "    eps = np.random.uniform(size=distances.shape)*1e-10 #Noise for tie break\n",
    "    distances = distances + eps\n",
    "    \n",
    "    return distances"
   ]
  },
  {
   "cell_type": "code",
   "execution_count": 21,
   "metadata": {},
   "outputs": [
    {
     "name": "stdout",
     "output_type": "stream",
     "text": [
      "My prediction: romance\n"
     ]
    }
   ],
   "source": [
    "#Testing the distances from each movie in the training set to the first movie in the test set\n",
    "distance_from_first = fast_distances(test_20.iloc[0], train_20)\n",
    "\n",
    "d = {'Genre': train['Genre'],'Distance': distance_from_first}\n",
    "genre_distance = pd.DataFrame(data=d).sort_values('Distance')[:7]\n",
    "\n",
    "# Our Prediction for the FIRST movie in the test set is...\n",
    "assigned_genre = most_common('Genre',genre_distance)\n",
    "print('My prediction: ' + assigned_genre)"
   ]
  },
  {
   "cell_type": "code",
   "execution_count": 22,
   "metadata": {},
   "outputs": [
    {
     "name": "stdout",
     "output_type": "stream",
     "text": [
      "The predicted genre, romance, was not correct.\n"
     ]
    }
   ],
   "source": [
    "actual_genre = test['Genre'].iloc[0]\n",
    "\n",
    "print(\"The predicted genre, {}, was{}correct.\".format(\n",
    "    assigned_genre, \" \" if actual_genre == assigned_genre else \" not \"))"
   ]
  },
  {
   "cell_type": "markdown",
   "metadata": {},
   "source": [
    "## General Classification Function"
   ]
  },
  {
   "cell_type": "markdown",
   "metadata": {},
   "source": [
    "The `classify_row` function below will classify a given row into its genre based on the genre of the specified **k-Nearest Neighbors**."
   ]
  },
  {
   "cell_type": "code",
   "execution_count": 26,
   "metadata": {},
   "outputs": [],
   "source": [
    "def classify_row(row):\n",
    "    def classify(test_row, train_set, train_labels, k):\n",
    "        \"\"\"Return the most common class among k nearest neigbors to test_row.\"\"\"\n",
    "        distances = fast_distances(test_row,train_set)\n",
    "\n",
    "        d = {'Genre': train_labels,'Distance': distances}\n",
    "\n",
    "        genre_and_distances = pd.DataFrame(data=d).sort_values('Distance',ascending=True)[:k]\n",
    "        \n",
    "        return most_common('Genre',genre_and_distances)\n",
    "    \n",
    "    return classify(row,train_20,train['Genre'],3)"
   ]
  },
  {
   "cell_type": "markdown",
   "metadata": {},
   "source": [
    "Assign `king_kong_genre` to the genre predicted by your classifier for the movie \"king kong\" in the test set, using **3 neighbors** and using your 20 features."
   ]
  },
  {
   "cell_type": "code",
   "execution_count": 27,
   "metadata": {},
   "outputs": [
    {
     "name": "stdout",
     "output_type": "stream",
     "text": [
      "King Kong Prediction: action\n"
     ]
    }
   ],
   "source": [
    "king_kong_20 = test[test['Title']=='king kong'][features_list_20]\n",
    "\n",
    "king_kong_genre = classify_row(king_kong_20.iloc[0])\n",
    "print('King Kong Prediction: ' + king_kong_genre)"
   ]
  },
  {
   "cell_type": "markdown",
   "metadata": {},
   "source": [
    "## Accuracy Check for Classifier"
   ]
  },
  {
   "cell_type": "markdown",
   "metadata": {},
   "source": [
    "The below cell will iterate through all the movies in the `test_20` DataFrame and assigned them with a classified `genre`."
   ]
  },
  {
   "cell_type": "code",
   "execution_count": 28,
   "metadata": {},
   "outputs": [
    {
     "name": "stdout",
     "output_type": "stream",
     "text": [
      "Classifier Accuracy with k=3: 0.5945945945945946\n"
     ]
    }
   ],
   "source": [
    "test_guesses, num_test = [], test_20.shape[0]\n",
    "\n",
    "for index in range(num_test):\n",
    "    one_guess = classify_row(test_20.iloc[index])\n",
    "    test_guesses.append(one_guess)\n",
    "\n",
    "proportion_correct = sum(test['Genre'] == test_guesses) / len(test['Genre'])\n",
    "print('Classifier Accuracy with k=3: {}'.format(proportion_correct))"
   ]
  },
  {
   "cell_type": "code",
   "execution_count": null,
   "metadata": {},
   "outputs": [],
   "source": []
  }
 ],
 "metadata": {
  "kernelspec": {
   "display_name": "Python 3",
   "language": "python",
   "name": "python3"
  },
  "language_info": {
   "codemirror_mode": {
    "name": "ipython",
    "version": 3
   },
   "file_extension": ".py",
   "mimetype": "text/x-python",
   "name": "python",
   "nbconvert_exporter": "python",
   "pygments_lexer": "ipython3",
   "version": "3.7.4"
  }
 },
 "nbformat": 4,
 "nbformat_minor": 2
}
